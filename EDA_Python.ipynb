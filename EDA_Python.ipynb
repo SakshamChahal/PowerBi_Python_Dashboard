{
 "cells": [
  {
   "cell_type": "markdown",
   "id": "cc06f0ca",
   "metadata": {},
   "source": [
    "# Heart Disease Prediction – EDA and Data Preprocessing"
   ]
  },
  {
   "cell_type": "markdown",
   "id": "0ee9b961",
   "metadata": {},
   "source": [
    "This notebook contains the Exploratory Data Analysis (EDA), data cleaning, preprocessing, and visualization of the heart disease dataset."
   ]
  },
  {
   "cell_type": "markdown",
   "id": "1b233832",
   "metadata": {},
   "source": [
    "## 📥 Data Loading"
   ]
  },
  {
   "cell_type": "code",
   "execution_count": null,
   "id": "103e0d55",
   "metadata": {},
   "outputs": [],
   "source": [
    "\n",
    "import pandas as pd\n",
    "\n",
    "# Load the dataset\n",
    "try:\n",
    "    df = pd.read_csv('heart_cleveland_upload.csv')\n",
    "    print(\"✅ Dataset loaded successfully.\")\n",
    "except FileNotFoundError:\n",
    "    print(\"❌ Error: heart_cleveland_upload.csv not found. Please make sure the file is in the correct directory.\")\n",
    "    df = None\n"
   ]
  },
  {
   "cell_type": "markdown",
   "id": "81233b0a",
   "metadata": {},
   "source": [
    "## 🧹 Data Cleaning"
   ]
  },
  {
   "cell_type": "code",
   "execution_count": null,
   "id": "e76b8933",
   "metadata": {},
   "outputs": [],
   "source": [
    "\n",
    "# Basic checks\n",
    "if df is not None:\n",
    "    print(\"\\n--- Dataset Info ---\")\n",
    "    display(df.info())\n",
    "\n",
    "    print(\"\\n--- Missing Values ---\")\n",
    "    display(df.isnull().sum())\n",
    "\n",
    "    print(\"\\n--- Summary Statistics ---\")\n",
    "    display(df.describe())\n",
    "\n",
    "    print(\"\\n--- First 5 Rows ---\")\n",
    "    display(df.head())\n"
   ]
  },
  {
   "cell_type": "markdown",
   "id": "dd3b021d",
   "metadata": {},
   "source": [
    "## 📊 EXPLORATORY DATA ANALYSIS (EDA)"
   ]
  },
  {
   "cell_type": "markdown",
   "id": "7911a12b",
   "metadata": {},
   "source": [
    "### 🔸 Distribution of Heart Disease Cases"
   ]
  },
  {
   "cell_type": "code",
   "execution_count": null,
   "id": "7d0ae024",
   "metadata": {},
   "outputs": [],
   "source": [
    "\n",
    "import matplotlib.pyplot as plt\n",
    "import seaborn as sns\n",
    "\n",
    "if df is not None and 'condition' in df.columns:\n",
    "    condition_counts = df['condition'].value_counts()\n",
    "    plt.figure(figsize=(8, 8))\n",
    "    plt.pie(condition_counts, labels=condition_counts.index, autopct='%1.1f%%', startangle=140)\n",
    "    plt.title('Distribution of Heart Condition')\n",
    "    plt.show()\n"
   ]
  },
  {
   "cell_type": "markdown",
   "id": "8795a37c",
   "metadata": {},
   "source": [
    "### 🔸 Age vs. Maximum Heart Rate by Condition"
   ]
  },
  {
   "cell_type": "code",
   "execution_count": null,
   "id": "b046a633",
   "metadata": {},
   "outputs": [],
   "source": [
    "\n",
    "if df is not None and 'age' in df.columns and 'thalach' in df.columns:\n",
    "    plt.figure(figsize=(10, 6))\n",
    "    sns.scatterplot(data=df, x='age', y='thalach', hue='condition')\n",
    "    plt.title('Scatter Plot of Age vs. Maximum Heart Rate')\n",
    "    plt.xlabel('Age')\n",
    "    plt.ylabel('Maximum Heart Rate Achieved')\n",
    "    plt.show()\n"
   ]
  },
  {
   "cell_type": "markdown",
   "id": "5f661981",
   "metadata": {},
   "source": [
    "### 🔸 Chest Pain Type Count by Condition"
   ]
  },
  {
   "cell_type": "code",
   "execution_count": null,
   "id": "b0640794",
   "metadata": {},
   "outputs": [],
   "source": [
    "\n",
    "if df is not None and 'cp' in df.columns:\n",
    "    plt.figure(figsize=(10, 6))\n",
    "    sns.countplot(data=df, x='cp', hue='condition')\n",
    "    plt.title('Count of Chest Pain Types by Condition')\n",
    "    plt.xlabel('Chest Pain Type')\n",
    "    plt.ylabel('Count')\n",
    "    plt.xticks(ticks=[0, 1, 2, 3], labels=['Typical Angina', 'Atypical Angina', 'Non-anginal Pain', 'Asymptomatic'])\n",
    "    plt.show()\n"
   ]
  },
  {
   "cell_type": "markdown",
   "id": "51e7af7a",
   "metadata": {},
   "source": [
    "### 🔸 Correlation Heatmap of Numerical Features"
   ]
  },
  {
   "cell_type": "code",
   "execution_count": null,
   "id": "bf3af3bf",
   "metadata": {},
   "outputs": [],
   "source": [
    "\n",
    "if df is not None:\n",
    "    numerical_df = df.select_dtypes(include=['number'])\n",
    "    if len(numerical_df.columns) >= 2:\n",
    "        plt.figure(figsize=(12, 10))\n",
    "        correlation_matrix = numerical_df.corr()\n",
    "        sns.heatmap(correlation_matrix, annot=True, cmap='coolwarm', fmt=\".2f\")\n",
    "        plt.title('Correlation Heatmap')\n",
    "        plt.show()\n"
   ]
  }
 ],
 "metadata": {},
 "nbformat": 4,
 "nbformat_minor": 5
}
